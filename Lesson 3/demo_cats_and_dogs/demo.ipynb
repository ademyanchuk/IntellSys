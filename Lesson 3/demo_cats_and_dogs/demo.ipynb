{
 "cells": [
  {
   "cell_type": "code",
   "execution_count": 1,
   "metadata": {},
   "outputs": [
    {
     "name": "stderr",
     "output_type": "stream",
     "text": [
      "/Users/dmitriibarillo/anaconda2/lib/python2.7/site-packages/sklearn/cross_validation.py:41: DeprecationWarning: This module was deprecated in version 0.18 in favor of the model_selection module into which all the refactored classes and functions are moved. Also note that the interface of the new CV iterators are different from that of this module. This module will be removed in 0.20.\n",
      "  \"This module will be removed in 0.20.\", DeprecationWarning)\n"
     ]
    }
   ],
   "source": [
    "from __future__ import division, print_function, absolute_import\n",
    "from skimage import color, io\n",
    "from scipy.misc import imresize\n",
    "import numpy as np\n",
    "from sklearn.cross_validation import train_test_split\n",
    "import os\n",
    "from glob import glob\n",
    "import tflearn\n",
    "from tflearn.data_utils import shuffle, to_categorical\n",
    "from tflearn.layers.core import input_data, dropout, fully_connected\n",
    "from tflearn.layers.conv import conv_2d, max_pool_2d\n",
    "from tflearn.layers.estimator import regression\n",
    "from tflearn.data_preprocessing import ImagePreprocessing\n",
    "from tflearn.data_augmentation import ImageAugmentation\n",
    "from tflearn.metrics import Accuracy"
   ]
  },
  {
   "cell_type": "code",
   "execution_count": 2,
   "metadata": {},
   "outputs": [
    {
     "name": "stdout",
     "output_type": "stream",
     "text": [
      "25000\n"
     ]
    }
   ],
   "source": [
    "###################################\n",
    "### Import picture files \n",
    "###################################\n",
    "files_path = 'data/train/'\n",
    "cat_files_path = os.path.join(files_path, 'cat*.jpg')\n",
    "dog_files_path = os.path.join(files_path, 'dog*.jpg')\n",
    "cat_files = sorted(glob(cat_files_path))\n",
    "dog_files = sorted(glob(dog_files_path))\n",
    "n_files = len(cat_files) + len(dog_files)\n",
    "print(n_files)"
   ]
  },
  {
   "cell_type": "code",
   "execution_count": 3,
   "metadata": {
    "collapsed": true
   },
   "outputs": [],
   "source": [
    "size_image = 64\n",
    "allX = np.zeros((n_files, size_image, size_image, 3), dtype='float64')\n",
    "ally = np.zeros(n_files)\n",
    "count = 0"
   ]
  },
  {
   "cell_type": "code",
   "execution_count": 4,
   "metadata": {
    "collapsed": true
   },
   "outputs": [],
   "source": [
    "for f in cat_files:\n",
    "    try:\n",
    "        img = io.imread(f)\n",
    "        new_img = imresize(img, (size_image, size_image, 3))\n",
    "        allX[count] = np.array(new_img)\n",
    "        ally[count] = 0\n",
    "        count += 1\n",
    "    except:\n",
    "        continue"
   ]
  },
  {
   "cell_type": "code",
   "execution_count": 5,
   "metadata": {
    "collapsed": true
   },
   "outputs": [],
   "source": [
    "for f in dog_files:\n",
    "    try:\n",
    "        img = io.imread(f)\n",
    "        new_img = imresize(img, (size_image, size_image, 3))\n",
    "        allX[count] = np.array(new_img)\n",
    "        ally[count] = 1\n",
    "        count += 1\n",
    "    except:\n",
    "        continue"
   ]
  },
  {
   "cell_type": "code",
   "execution_count": 6,
   "metadata": {
    "collapsed": true
   },
   "outputs": [],
   "source": [
    "###################################\n",
    "# Prepare train & test samples\n",
    "###################################\n",
    "# test-train split   \n",
    "X, X_test, Y, Y_test = train_test_split(allX, ally, test_size=0.1, random_state=42)\n",
    "# encode the Ys\n",
    "Y = to_categorical(Y, 2)\n",
    "Y_test = to_categorical(Y_test, 2)"
   ]
  },
  {
   "cell_type": "code",
   "execution_count": 7,
   "metadata": {
    "collapsed": true
   },
   "outputs": [],
   "source": [
    "###################################\n",
    "# Image transformations\n",
    "###################################\n",
    "# normalisation of images\n",
    "img_prep = ImagePreprocessing()\n",
    "img_prep.add_featurewise_zero_center()\n",
    "img_prep.add_featurewise_stdnorm()\n",
    "# Create extra synthetic training data by flipping & rotating images\n",
    "img_aug = ImageAugmentation()\n",
    "img_aug.add_random_flip_leftright()\n",
    "img_aug.add_random_rotation(max_angle=25.)"
   ]
  },
  {
   "cell_type": "code",
   "execution_count": 8,
   "metadata": {
    "collapsed": true
   },
   "outputs": [],
   "source": [
    "###################################\n",
    "# Define network architecture\n",
    "###################################\n",
    "# Input is a 32x32 image with 3 color channels (red, green and blue)\n",
    "network = input_data(shape=[None, 64, 64, 3],\n",
    "data_preprocessing=img_prep,\n",
    "data_augmentation=img_aug)\n",
    "# 1: Convolution layer with 32 filters, each 3x3x3\n",
    "conv_1 = conv_2d(network, 32, 3, activation='relu', name='conv_1')\n",
    "# 2: Max pooling layer\n",
    "network = max_pool_2d(conv_1, 2)\n",
    "# 3: Convolution layer with 64 filters\n",
    "conv_2 = conv_2d(network, 64, 3, activation='relu', name='conv_2')\n",
    "# 4: Convolution layer with 64 filters\n",
    "conv_3 = conv_2d(conv_2, 64, 3, activation='relu', name='conv_3')\n",
    "# 5: Max pooling layer\n",
    "network = max_pool_2d(conv_3, 2)\n",
    "# 6: Fully-connected 512 node layer\n",
    "network = fully_connected(network, 512, activation='relu')\n",
    "# 7: Dropout layer to combat overfitting\n",
    "network = dropout(network, 0.5)\n",
    "# 8: Fully-connected layer with two outputs\n",
    "network = fully_connected(network, 2, activation='softmax')"
   ]
  },
  {
   "cell_type": "code",
   "execution_count": 9,
   "metadata": {
    "collapsed": true
   },
   "outputs": [],
   "source": [
    "# Configure how the network will be trained\n",
    "acc = Accuracy(name=\"Accuracy\")\n",
    "network = regression(network, optimizer='adam',\n",
    "loss='categorical_crossentropy',\n",
    "learning_rate=0.0005, metric=acc)"
   ]
  },
  {
   "cell_type": "code",
   "execution_count": 10,
   "metadata": {
    "collapsed": true
   },
   "outputs": [],
   "source": [
    "# Wrap the network in a model object\n",
    "model = tflearn.DNN(network, checkpoint_path='model_cat_dog_6.tflearn', max_checkpoints = 3,\n",
    "tensorboard_verbose = 3, tensorboard_dir='tmp/tflearn_logs/')"
   ]
  },
  {
   "cell_type": "code",
   "execution_count": null,
   "metadata": {},
   "outputs": [
    {
     "name": "stdout",
     "output_type": "stream",
     "text": [
      "Training Step: 1419  | total loss: \u001b[1m\u001b[32m0.26806\u001b[0m\u001b[0m | time: 234.706s\n",
      "\u001b[2K\r",
      "| Adam | epoch: 016 | loss: 0.26806 - Accuracy: 0.8845 -- iter: 20224/22500\n"
     ]
    }
   ],
   "source": [
    "###################################\n",
    "# Train model for 100 epochs\n",
    "###################################\n",
    "model.fit(X, Y, validation_set=(X_test, Y_test), batch_size=256, n_epoch=10, run_id='model_cat_dog_6', show_metric=True)\n",
    "model.save('model_cat_dog_6_final.tflearn')"
   ]
  },
  {
   "cell_type": "code",
   "execution_count": null,
   "metadata": {
    "collapsed": true
   },
   "outputs": [],
   "source": []
  }
 ],
 "metadata": {
  "kernelspec": {
   "display_name": "Python 2",
   "language": "python",
   "name": "python2"
  },
  "language_info": {
   "codemirror_mode": {
    "name": "ipython",
    "version": 2
   },
   "file_extension": ".py",
   "mimetype": "text/x-python",
   "name": "python",
   "nbconvert_exporter": "python",
   "pygments_lexer": "ipython2",
   "version": "2.7.13"
  }
 },
 "nbformat": 4,
 "nbformat_minor": 2
}
