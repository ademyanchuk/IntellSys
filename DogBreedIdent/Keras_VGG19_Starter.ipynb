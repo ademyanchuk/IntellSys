{
 "cells": [
  {
   "cell_type": "code",
   "execution_count": 16,
   "metadata": {},
   "outputs": [],
   "source": [
    "import numpy as np\n",
    "import pandas as pd \n",
    "import keras\n",
    "from keras.applications import VGG19\n",
    "from keras.applications.imagenet_utils import preprocess_input\n",
    "from keras.models import Model\n",
    "from keras.layers import Dense, Dropout, Flatten, Lambda, GlobalAveragePooling2D, Input\n",
    "from keras.preprocessing import image\n",
    "\n",
    "import os\n",
    "from tqdm import tqdm"
   ]
  },
  {
   "cell_type": "markdown",
   "metadata": {},
   "source": [
    "### Считываем данные в датафрэймы"
   ]
  },
  {
   "cell_type": "code",
   "execution_count": 3,
   "metadata": {},
   "outputs": [],
   "source": [
    "data_dir = os.getcwd()\n",
    "df_train = pd.read_csv('labels.csv')\n",
    "df_test = pd.read_csv('sample_submission.csv')"
   ]
  },
  {
   "cell_type": "code",
   "execution_count": 4,
   "metadata": {},
   "outputs": [
    {
     "data": {
      "text/html": [
       "<div>\n",
       "<style>\n",
       "    .dataframe thead tr:only-child th {\n",
       "        text-align: right;\n",
       "    }\n",
       "\n",
       "    .dataframe thead th {\n",
       "        text-align: left;\n",
       "    }\n",
       "\n",
       "    .dataframe tbody tr th {\n",
       "        vertical-align: top;\n",
       "    }\n",
       "</style>\n",
       "<table border=\"1\" class=\"dataframe\">\n",
       "  <thead>\n",
       "    <tr style=\"text-align: right;\">\n",
       "      <th></th>\n",
       "      <th>id</th>\n",
       "      <th>breed</th>\n",
       "    </tr>\n",
       "  </thead>\n",
       "  <tbody>\n",
       "    <tr>\n",
       "      <th>0</th>\n",
       "      <td>000bec180eb18c7604dcecc8fe0dba07</td>\n",
       "      <td>boston_bull</td>\n",
       "    </tr>\n",
       "    <tr>\n",
       "      <th>1</th>\n",
       "      <td>001513dfcb2ffafc82cccf4d8bbaba97</td>\n",
       "      <td>dingo</td>\n",
       "    </tr>\n",
       "    <tr>\n",
       "      <th>2</th>\n",
       "      <td>001cdf01b096e06d78e9e5112d419397</td>\n",
       "      <td>pekinese</td>\n",
       "    </tr>\n",
       "    <tr>\n",
       "      <th>3</th>\n",
       "      <td>00214f311d5d2247d5dfe4fe24b2303d</td>\n",
       "      <td>bluetick</td>\n",
       "    </tr>\n",
       "    <tr>\n",
       "      <th>4</th>\n",
       "      <td>0021f9ceb3235effd7fcde7f7538ed62</td>\n",
       "      <td>golden_retriever</td>\n",
       "    </tr>\n",
       "    <tr>\n",
       "      <th>5</th>\n",
       "      <td>002211c81b498ef88e1b40b9abf84e1d</td>\n",
       "      <td>bedlington_terrier</td>\n",
       "    </tr>\n",
       "    <tr>\n",
       "      <th>6</th>\n",
       "      <td>00290d3e1fdd27226ba27a8ce248ce85</td>\n",
       "      <td>bedlington_terrier</td>\n",
       "    </tr>\n",
       "    <tr>\n",
       "      <th>7</th>\n",
       "      <td>002a283a315af96eaea0e28e7163b21b</td>\n",
       "      <td>borzoi</td>\n",
       "    </tr>\n",
       "    <tr>\n",
       "      <th>8</th>\n",
       "      <td>003df8b8a8b05244b1d920bb6cf451f9</td>\n",
       "      <td>basenji</td>\n",
       "    </tr>\n",
       "    <tr>\n",
       "      <th>9</th>\n",
       "      <td>0042188c895a2f14ef64a918ed9c7b64</td>\n",
       "      <td>scottish_deerhound</td>\n",
       "    </tr>\n",
       "  </tbody>\n",
       "</table>\n",
       "</div>"
      ],
      "text/plain": [
       "                                 id               breed\n",
       "0  000bec180eb18c7604dcecc8fe0dba07         boston_bull\n",
       "1  001513dfcb2ffafc82cccf4d8bbaba97               dingo\n",
       "2  001cdf01b096e06d78e9e5112d419397            pekinese\n",
       "3  00214f311d5d2247d5dfe4fe24b2303d            bluetick\n",
       "4  0021f9ceb3235effd7fcde7f7538ed62    golden_retriever\n",
       "5  002211c81b498ef88e1b40b9abf84e1d  bedlington_terrier\n",
       "6  00290d3e1fdd27226ba27a8ce248ce85  bedlington_terrier\n",
       "7  002a283a315af96eaea0e28e7163b21b              borzoi\n",
       "8  003df8b8a8b05244b1d920bb6cf451f9             basenji\n",
       "9  0042188c895a2f14ef64a918ed9c7b64  scottish_deerhound"
      ]
     },
     "execution_count": 4,
     "metadata": {},
     "output_type": "execute_result"
    }
   ],
   "source": [
    "df_train.head(10)"
   ]
  },
  {
   "cell_type": "code",
   "execution_count": 5,
   "metadata": {},
   "outputs": [],
   "source": [
    "# Создаем one_hot массив с ответами\n",
    "target_series = pd.Series(df_train['breed'])\n",
    "one_hot = pd.get_dummies(target_series, sparse=True)\n",
    "\n",
    "one_hot_labels = np.asarray(one_hot)"
   ]
  },
  {
   "cell_type": "code",
   "execution_count": 6,
   "metadata": {},
   "outputs": [
    {
     "data": {
      "text/plain": [
       "array([0, 0, 0, 0, 0, 0, 0, 0, 0, 0, 0, 0, 0, 0, 0, 0, 0, 0, 0, 1, 0, 0, 0,\n",
       "       0, 0, 0, 0, 0, 0, 0, 0, 0, 0, 0, 0, 0, 0, 0, 0, 0, 0, 0, 0, 0, 0, 0,\n",
       "       0, 0, 0, 0, 0, 0, 0, 0, 0, 0, 0, 0, 0, 0, 0, 0, 0, 0, 0, 0, 0, 0, 0,\n",
       "       0, 0, 0, 0, 0, 0, 0, 0, 0, 0, 0, 0, 0, 0, 0, 0, 0, 0, 0, 0, 0, 0, 0,\n",
       "       0, 0, 0, 0, 0, 0, 0, 0, 0, 0, 0, 0, 0, 0, 0, 0, 0, 0, 0, 0, 0, 0, 0,\n",
       "       0, 0, 0, 0, 0], dtype=uint8)"
      ]
     },
     "execution_count": 6,
     "metadata": {},
     "output_type": "execute_result"
    }
   ],
   "source": [
    "one_hot_labels[0]"
   ]
  },
  {
   "cell_type": "code",
   "execution_count": 7,
   "metadata": {},
   "outputs": [],
   "source": [
    "IM_SIZE = 224"
   ]
  },
  {
   "cell_type": "code",
   "execution_count": 10,
   "metadata": {},
   "outputs": [],
   "source": [
    "# Функция для чтения изображений и перевода в numpy массив\n",
    "# из keras.preprocessing\n",
    "def read_img(img_id, train_or_test, size):\n",
    "    \"\"\"Read and resize image.\n",
    "    # Arguments\n",
    "        img_id: string\n",
    "        train_or_test: string 'train' or 'test'.\n",
    "        size: resize the original image.\n",
    "    # Returns\n",
    "        Image as numpy array.\n",
    "    \"\"\"\n",
    "    img = image.load_img(os.path.join(data_dir, train_or_test, '%s.jpg' % img_id), target_size=size)\n",
    "    img = image.img_to_array(img)\n",
    "    return img"
   ]
  },
  {
   "cell_type": "code",
   "execution_count": null,
   "metadata": {},
   "outputs": [
    {
     "name": "stderr",
     "output_type": "stream",
     "text": [
      "8438it [02:15, 62.32it/s] "
     ]
    }
   ],
   "source": [
    "# Создаем массивы для тенировки\n",
    "x_train = np.zeros((len(df_train), IM_SIZE, IM_SIZE, 3), dtype=np.float32)\n",
    "y_train = np.zeros((one_hot_labels.shape), dtype=np.uint8)\n",
    "for i, img_id in tqdm(enumerate(df_train['id'])):\n",
    "    img = read_img(img_id, 'train', (IM_SIZE, IM_SIZE))\n",
    "    x_train[i] = img\n",
    "    y_train[i] = one_hot_labels[i]\n",
    "    \n",
    "print('Train Images shape: {} size: {:,}'.format(x_train.shape, x_train.size))"
   ]
  },
  {
   "cell_type": "code",
   "execution_count": 13,
   "metadata": {
    "collapsed": true
   },
   "outputs": [],
   "source": [
    "# Функция для выделения признаков при помощи предобученных моделей из Keras\n",
    "def get_features(MODEL, data=x_train):\n",
    "    cnn_model = MODEL(include_top=False, input_shape=(IM_SIZE, IM_SIZE, 3), weights='imagenet')\n",
    "    \n",
    "    inputs = Input((IM_SIZE, IM_SIZE, 3))\n",
    "    x = inputs\n",
    "    x = cnn_model(x)\n",
    "    x = GlobalAveragePooling2D()(x)\n",
    "    cnn_model = Model(inputs, x)\n",
    "\n",
    "    features = cnn_model.predict(data, batch_size=64, verbose=1)\n",
    "    return features"
   ]
  },
  {
   "cell_type": "code",
   "execution_count": 14,
   "metadata": {},
   "outputs": [
    {
     "name": "stdout",
     "output_type": "stream",
     "text": [
      "10222/10222 [==============================] - 3400s   \n"
     ]
    }
   ],
   "source": [
    "features = get_features(VGG19, x_train)"
   ]
  },
  {
   "cell_type": "code",
   "execution_count": 15,
   "metadata": {},
   "outputs": [],
   "source": [
    "num_class = y_train.shape[1]"
   ]
  },
  {
   "cell_type": "code",
   "execution_count": 16,
   "metadata": {
    "collapsed": true
   },
   "outputs": [],
   "source": [
    "# Создаем модель для классификации\n",
    "inputs = Input(features.shape[1:])\n",
    "x = inputs\n",
    "x = Dropout(0.5)(x)\n",
    "x = Dense(num_class, activation='softmax')(x)\n",
    "model = Model(inputs, x)"
   ]
  },
  {
   "cell_type": "code",
   "execution_count": 17,
   "metadata": {
    "collapsed": true
   },
   "outputs": [],
   "source": [
    "# используем оптимизатор stochastic gradient descent\n",
    "sgd = keras.optimizers.SGD(lr=0.01, momentum=0.9, decay=5e-4)"
   ]
  },
  {
   "cell_type": "code",
   "execution_count": 18,
   "metadata": {},
   "outputs": [],
   "source": [
    "# компилируем модель\n",
    "model.compile(loss='categorical_crossentropy', optimizer=sgd,\n",
    "              metrics=['accuracy'])"
   ]
  },
  {
   "cell_type": "code",
   "execution_count": 19,
   "metadata": {},
   "outputs": [
    {
     "name": "stdout",
     "output_type": "stream",
     "text": [
      "_________________________________________________________________\n",
      "Layer (type)                 Output Shape              Param #   \n",
      "=================================================================\n",
      "input_5 (InputLayer)         (None, 512)               0         \n",
      "_________________________________________________________________\n",
      "dropout_1 (Dropout)          (None, 512)               0         \n",
      "_________________________________________________________________\n",
      "dense_1 (Dense)              (None, 120)               61560     \n",
      "=================================================================\n",
      "Total params: 61,560\n",
      "Trainable params: 61,560\n",
      "Non-trainable params: 0\n",
      "_________________________________________________________________\n"
     ]
    }
   ],
   "source": [
    "model.summary()"
   ]
  },
  {
   "cell_type": "code",
   "execution_count": 20,
   "metadata": {
    "collapsed": true
   },
   "outputs": [],
   "source": [
    "# список условий для ранней остановки тренировки или снижения leraning_rate\n",
    "callbacks = [keras.callbacks.EarlyStopping(monitor='val_loss',\n",
    "                                          patience=10, verbose=1),\n",
    "            keras.callbacks.ReduceLROnPlateau(monitor='val_loss', factor=0.1,\n",
    "                              patience=5, verbose=1)]"
   ]
  },
  {
   "cell_type": "code",
   "execution_count": 22,
   "metadata": {},
   "outputs": [
    {
     "name": "stdout",
     "output_type": "stream",
     "text": [
      "Train on 9199 samples, validate on 1023 samples\n",
      "Epoch 1/75\n",
      "9199/9199 [==============================] - 0s - loss: 13.7461 - acc: 0.0884 - val_loss: 11.4421 - val_acc: 0.2248\n",
      "Epoch 2/75\n",
      "9199/9199 [==============================] - 0s - loss: 11.9053 - acc: 0.1972 - val_loss: 10.5346 - val_acc: 0.2903\n",
      "Epoch 3/75\n",
      "9199/9199 [==============================] - 0s - loss: 11.2261 - acc: 0.2394 - val_loss: 9.7552 - val_acc: 0.3294\n",
      "Epoch 4/75\n",
      "9199/9199 [==============================] - 0s - loss: 10.8167 - acc: 0.2710 - val_loss: 9.4747 - val_acc: 0.3509\n",
      "Epoch 5/75\n",
      "9199/9199 [==============================] - 0s - loss: 10.6281 - acc: 0.2854 - val_loss: 9.1671 - val_acc: 0.3803\n",
      "Epoch 6/75\n",
      "9199/9199 [==============================] - 0s - loss: 10.2639 - acc: 0.3087 - val_loss: 9.2636 - val_acc: 0.3783\n",
      "Epoch 7/75\n",
      "9199/9199 [==============================] - 0s - loss: 9.9849 - acc: 0.3254 - val_loss: 8.9767 - val_acc: 0.3939\n",
      "Epoch 8/75\n",
      "9199/9199 [==============================] - 0s - loss: 9.8926 - acc: 0.3357 - val_loss: 9.0551 - val_acc: 0.3959\n",
      "Epoch 9/75\n",
      "9199/9199 [==============================] - 0s - loss: 9.8151 - acc: 0.3389 - val_loss: 8.8481 - val_acc: 0.4047\n",
      "Epoch 10/75\n",
      "9199/9199 [==============================] - 0s - loss: 9.7292 - acc: 0.3460 - val_loss: 9.0358 - val_acc: 0.4086\n",
      "Epoch 11/75\n",
      "9199/9199 [==============================] - 0s - loss: 9.6624 - acc: 0.3518 - val_loss: 8.9664 - val_acc: 0.4027\n",
      "Epoch 12/75\n",
      "9199/9199 [==============================] - 0s - loss: 9.5265 - acc: 0.3578 - val_loss: 8.7068 - val_acc: 0.4184\n",
      "Epoch 13/75\n",
      "9199/9199 [==============================] - 0s - loss: 9.4938 - acc: 0.3621 - val_loss: 8.7378 - val_acc: 0.4164\n",
      "Epoch 14/75\n",
      "9199/9199 [==============================] - 0s - loss: 9.3722 - acc: 0.3710 - val_loss: 8.7526 - val_acc: 0.4154\n",
      "Epoch 15/75\n",
      "9199/9199 [==============================] - 0s - loss: 9.2681 - acc: 0.3775 - val_loss: 8.6558 - val_acc: 0.4272\n",
      "Epoch 16/75\n",
      "9199/9199 [==============================] - 0s - loss: 9.2293 - acc: 0.3812 - val_loss: 8.7272 - val_acc: 0.4154\n",
      "Epoch 17/75\n",
      "9199/9199 [==============================] - 0s - loss: 9.1913 - acc: 0.3835 - val_loss: 8.7089 - val_acc: 0.4135\n",
      "Epoch 18/75\n",
      "9199/9199 [==============================] - 0s - loss: 9.1631 - acc: 0.3866 - val_loss: 8.6661 - val_acc: 0.4164\n",
      "Epoch 19/75\n",
      "9199/9199 [==============================] - 0s - loss: 9.1740 - acc: 0.3865 - val_loss: 8.6936 - val_acc: 0.4184\n",
      "Epoch 20/75\n",
      "9199/9199 [==============================] - 0s - loss: 8.9949 - acc: 0.3965 - val_loss: 8.5761 - val_acc: 0.4272\n",
      "Epoch 21/75\n",
      "9199/9199 [==============================] - 0s - loss: 9.0761 - acc: 0.3905 - val_loss: 8.5450 - val_acc: 0.4340\n",
      "Epoch 22/75\n",
      "9199/9199 [==============================] - 0s - loss: 8.9315 - acc: 0.3985 - val_loss: 8.4778 - val_acc: 0.4340\n",
      "Epoch 23/75\n",
      "9199/9199 [==============================] - 0s - loss: 8.8994 - acc: 0.4025 - val_loss: 8.5678 - val_acc: 0.4350\n",
      "Epoch 24/75\n",
      "9199/9199 [==============================] - 0s - loss: 8.8200 - acc: 0.4079 - val_loss: 8.5895 - val_acc: 0.4242\n",
      "Epoch 25/75\n",
      "9199/9199 [==============================] - 0s - loss: 8.8362 - acc: 0.4070 - val_loss: 8.4894 - val_acc: 0.4330\n",
      "Epoch 26/75\n",
      "9199/9199 [==============================] - 0s - loss: 8.7696 - acc: 0.4080 - val_loss: 8.3047 - val_acc: 0.4477\n",
      "Epoch 27/75\n",
      "9199/9199 [==============================] - 0s - loss: 8.7228 - acc: 0.4111 - val_loss: 8.3063 - val_acc: 0.4409\n",
      "Epoch 28/75\n",
      "9199/9199 [==============================] - 0s - loss: 8.6893 - acc: 0.4138 - val_loss: 8.5525 - val_acc: 0.4262\n",
      "Epoch 29/75\n",
      "9199/9199 [==============================] - 0s - loss: 8.6564 - acc: 0.4196 - val_loss: 8.4321 - val_acc: 0.4409\n",
      "Epoch 30/75\n",
      "9199/9199 [==============================] - 0s - loss: 8.6700 - acc: 0.4154 - val_loss: 8.4153 - val_acc: 0.4399\n",
      "Epoch 31/75\n",
      "9199/9199 [==============================] - 0s - loss: 8.6081 - acc: 0.4225 - val_loss: 8.4663 - val_acc: 0.4409\n",
      "Epoch 32/75\n",
      "7808/9199 [========================>.....] - ETA: 0s - loss: 8.4988 - acc: 0.4276\n",
      "Epoch 00031: reducing learning rate to 0.0009999999776482583.\n",
      "9199/9199 [==============================] - 0s - loss: 8.5521 - acc: 0.4233 - val_loss: 8.4516 - val_acc: 0.4389\n",
      "Epoch 33/75\n",
      "9199/9199 [==============================] - 0s - loss: 8.5084 - acc: 0.4244 - val_loss: 8.4159 - val_acc: 0.4360\n",
      "Epoch 34/75\n",
      "9199/9199 [==============================] - 0s - loss: 8.5067 - acc: 0.4297 - val_loss: 8.3906 - val_acc: 0.4409\n",
      "Epoch 35/75\n",
      "9199/9199 [==============================] - 0s - loss: 8.4297 - acc: 0.4344 - val_loss: 8.3675 - val_acc: 0.4457\n",
      "Epoch 36/75\n",
      "9199/9199 [==============================] - 0s - loss: 8.4268 - acc: 0.4340 - val_loss: 8.3857 - val_acc: 0.4457\n",
      "Epoch 37/75\n",
      "7808/9199 [========================>.....] - ETA: 0s - loss: 8.4154 - acc: 0.4375\n",
      "Epoch 00036: reducing learning rate to 9.999999310821295e-05.\n",
      "9199/9199 [==============================] - 0s - loss: 8.4120 - acc: 0.4365 - val_loss: 8.3814 - val_acc: 0.4448\n",
      "Epoch 00036: early stopping\n"
     ]
    },
    {
     "data": {
      "text/plain": [
       "<keras.callbacks.History at 0x7f7a980239e8>"
      ]
     },
     "execution_count": 22,
     "metadata": {},
     "output_type": "execute_result"
    }
   ],
   "source": [
    "model.fit(features, y_train, batch_size=128, epochs=75, validation_split=0.1, verbose=1, callbacks=callbacks)"
   ]
  },
  {
   "cell_type": "code",
   "execution_count": null,
   "metadata": {
    "collapsed": true
   },
   "outputs": [],
   "source": [
    "# сохраняем веса\n",
    "filepath = os.path.join(data_dir, \"vgg19_imgnet_pretrained.h5\")\n",
    "model.save_weights(filepath)"
   ]
  },
  {
   "cell_type": "code",
   "execution_count": null,
   "metadata": {},
   "outputs": [],
   "source": [
    "# подготовка тестовых изображений\n",
    "x_test = np.zeros((len(df_test), IM_SIZE, IM_SIZE, 3), dtype='float32')\n",
    "for i, img_id in tqdm(enumerate(df_test['id'])):\n",
    "    img = read_img(img_id, 'test', (IM_SIZE, IM_SIZE))\n",
    "    x = preprocess_input(np.expand_dims(img.copy(), axis=0))\n",
    "    x_test[i] = x\n",
    "    \n",
    "print('Test Images shape: {} size: {:,}'.format(x_test.shape, x_test.size))"
   ]
  },
  {
   "cell_type": "code",
   "execution_count": null,
   "metadata": {},
   "outputs": [],
   "source": [
    "# предсказание\n",
    "preds = model.predict(x_test, verbose=1)"
   ]
  },
  {
   "cell_type": "code",
   "execution_count": null,
   "metadata": {},
   "outputs": [],
   "source": [
    "# переводим в пандас датафрейм и сохраням в csv\n",
    "sub = pd.DataFrame(preds)\n",
    "col_names = one_hot.columns.values\n",
    "sub.columns = col_names\n",
    "\n",
    "sub.insert(0, 'id', df_test['id'])\n",
    "sub.head()"
   ]
  },
  {
   "cell_type": "code",
   "execution_count": null,
   "metadata": {},
   "outputs": [],
   "source": [
    "sub.to_csv('answers.csv', index=False)"
   ]
  }
 ],
 "metadata": {
  "kernelspec": {
   "display_name": "Python 3",
   "language": "python",
   "name": "python3"
  },
  "language_info": {
   "codemirror_mode": {
    "name": "ipython",
    "version": 3
   },
   "file_extension": ".py",
   "mimetype": "text/x-python",
   "name": "python",
   "nbconvert_exporter": "python",
   "pygments_lexer": "ipython3",
   "version": "3.6.3"
  }
 },
 "nbformat": 4,
 "nbformat_minor": 1
}
